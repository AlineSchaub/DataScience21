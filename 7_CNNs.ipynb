{
  "nbformat": 4,
  "nbformat_minor": 0,
  "metadata": {
    "colab": {
      "name": "Kopie von Exercise_2 .ipynb",
      "provenance": [],
      "collapsed_sections": [],
      "toc_visible": true,
      "include_colab_link": true
    },
    "kernelspec": {
      "display_name": "Python 3",
      "language": "python",
      "name": "python3"
    },
    "language_info": {
      "codemirror_mode": {
        "name": "ipython",
        "version": 3
      },
      "file_extension": ".py",
      "mimetype": "text/x-python",
      "name": "python",
      "nbconvert_exporter": "python",
      "pygments_lexer": "ipython3",
      "version": "3.7.6"
    }
  },
  "cells": [
    {
      "cell_type": "markdown",
      "metadata": {
        "id": "view-in-github",
        "colab_type": "text"
      },
      "source": [
        "<a href=\"https://colab.research.google.com/github/AlineSchaub/DataScience21/blob/7_Block/7_CNNs.ipynb\" target=\"_parent\"><img src=\"https://colab.research.google.com/assets/colab-badge.svg\" alt=\"Open In Colab\"/></a>"
      ]
    },
    {
      "cell_type": "markdown",
      "metadata": {
        "id": "NgYV9F8IE2L_"
      },
      "source": [
        "# Assignment - Image Classification with CNNs\n",
        "![CIFAR10](https://miro.medium.com/max/964/1*syyml8q8s1Yt-iEea5m1Ag.png)\n",
        "\n",
        "[CIFAR 10](https://www.cs.toronto.edu/~kriz/cifar.html) is a small toy data set for image classifaction. \n",
        "\n",
        "* It has 60k images from ten diffenrent classes (like car, airplane, horse,..)\n",
        "* The RGB images are of size 32x32 pixels  "
      ]
    },
    {
      "cell_type": "code",
      "metadata": {
        "id": "GiDFXXcUEy-G",
        "colab": {
          "base_uri": "https://localhost:8080/"
        },
        "outputId": "8e0a1430-931f-4038-b389-fe798ee52185"
      },
      "source": [
        "#import needed libs\n",
        "from __future__ import print_function\n",
        "import keras\n",
        "from keras.datasets import cifar10\n",
        "from keras.preprocessing.image import ImageDataGenerator\n",
        "from keras.models import Sequential\n",
        "from keras.layers import Dense, Dropout, Activation, Flatten\n",
        "from keras.layers import Conv2D, MaxPooling2D\n",
        "import os\n",
        "\n",
        "#some vars to controll the training -> use them in your code\n",
        "batch_size = 32\n",
        "num_classes = 10 #fixed!\n",
        "epochs = 10\n",
        "\n",
        "# Get the data, split between train and test sets:\n",
        "(x_train, y_train), (x_test, y_test) = cifar10.load_data()\n",
        "print('x_train shape:', x_train.shape)\n",
        "print(x_train.shape[0], 'train samples')\n",
        "print(x_test.shape[0], 'test samples')\n",
        "\n",
        "# Convert class vectors to binary class matrices.\n",
        "y_train = keras.utils.to_categorical(y_train, num_classes)\n",
        "y_test = keras.utils.to_categorical(y_test, num_classes)"
      ],
      "execution_count": 1,
      "outputs": [
        {
          "output_type": "stream",
          "text": [
            "Downloading data from https://www.cs.toronto.edu/~kriz/cifar-10-python.tar.gz\n",
            "170500096/170498071 [==============================] - 2s 0us/step\n",
            "x_train shape: (50000, 32, 32, 3)\n",
            "50000 train samples\n",
            "10000 test samples\n"
          ],
          "name": "stdout"
        }
      ]
    },
    {
      "cell_type": "markdown",
      "metadata": {
        "id": "vmocaCkIGOIR"
      },
      "source": [
        "## Task:\n",
        "* visualize some sample images from different classes\n",
        "* build and train the ***AlexNet*** CNN architecture from the lecture, use the following Keras layers:\n",
        "    * overview: https://keras.io/api/layers/\n",
        "    * 2d convolution: https://keras.io/api/layers/convolution_layers/convolution2d/\n",
        "    * Fully Connected (=Matrix Multiplication MLP): https://keras.io/api/layers/core_layers/dense/\n",
        "    * Pooling: https://keras.io/api/layers/pooling_layers/max_pooling2d/   \n",
        "* use 'relu' functions for the non-linear activation -> https://keras.io/api/layers/activation_layers/relu/\n",
        "* optimize the learning hyper-paramters to get the best  test accuracy"
      ]
    },
    {
      "cell_type": "code",
      "metadata": {
        "id": "9p5AD8mJEzmL"
      },
      "source": [
        "from tensorflow.keras import layers\n",
        "from tensorflow.keras.layers.experimental.preprocessing import CenterCrop\n",
        "from tensorflow.keras.layers.experimental.preprocessing import Rescaling\n",
        "from tensorflow.keras import activations\n",
        "\n",
        "#RGB (3) und Bildgröße 32 auf 32\n",
        "inputs = keras.Input(shape=(32, 32, 3))\n",
        "\n",
        "\n",
        "#Bilder zuschneiden\n",
        "x_1 = CenterCrop(height=30, width=30)(inputs)\n",
        "\n",
        "\n",
        "# Rescale images to [0, 1]\n",
        "x_2 = Rescaling(scale=1.0 / 255)(x_1)\n",
        "\n",
        "# 2d Convolution layer\n",
        "x_3 = layers.Conv2D(filters=32, kernel_size=(3, 3), activation=\"relu\")(x_2)\n",
        "\n",
        "#fully connected layer\n",
        "x_4 = layers.Dense(32, activation='relu')(x_3)\n",
        "\n",
        "#Pooling layer\n",
        "x_5 = layers.MaxPooling2D(pool_size=(3, 3))(x_4)\n",
        "\n",
        "\n",
        "x_6 = layers.GlobalAveragePooling2D()(x_5)\n",
        "\n"
      ],
      "execution_count": 2,
      "outputs": []
    },
    {
      "cell_type": "code",
      "metadata": {
        "id": "5I7SEd2VE7uz"
      },
      "source": [
        "\n",
        "outputs = layers.Dense(num_classes, activation=activations.relu)(x_6)"
      ],
      "execution_count": 3,
      "outputs": []
    },
    {
      "cell_type": "code",
      "metadata": {
        "id": "z8EmS2BcMe5T"
      },
      "source": [
        "model = keras.Model(inputs=inputs, outputs=outputs)"
      ],
      "execution_count": 4,
      "outputs": []
    },
    {
      "cell_type": "code",
      "metadata": {
        "colab": {
          "base_uri": "https://localhost:8080/"
        },
        "id": "pfmAyFWzNElh",
        "outputId": "059a1c73-2089-414e-f08f-8ac9e6861dc3"
      },
      "source": [
        "model.summary()"
      ],
      "execution_count": 5,
      "outputs": [
        {
          "output_type": "stream",
          "text": [
            "Model: \"model\"\n",
            "_________________________________________________________________\n",
            "Layer (type)                 Output Shape              Param #   \n",
            "=================================================================\n",
            "input_1 (InputLayer)         [(None, 32, 32, 3)]       0         \n",
            "_________________________________________________________________\n",
            "center_crop (CenterCrop)     (None, 30, 30, 3)         0         \n",
            "_________________________________________________________________\n",
            "rescaling (Rescaling)        (None, 30, 30, 3)         0         \n",
            "_________________________________________________________________\n",
            "conv2d (Conv2D)              (None, 28, 28, 32)        896       \n",
            "_________________________________________________________________\n",
            "dense (Dense)                (None, 28, 28, 32)        1056      \n",
            "_________________________________________________________________\n",
            "max_pooling2d (MaxPooling2D) (None, 9, 9, 32)          0         \n",
            "_________________________________________________________________\n",
            "global_average_pooling2d (Gl (None, 32)                0         \n",
            "_________________________________________________________________\n",
            "dense_1 (Dense)              (None, 10)                330       \n",
            "=================================================================\n",
            "Total params: 2,282\n",
            "Trainable params: 2,282\n",
            "Non-trainable params: 0\n",
            "_________________________________________________________________\n"
          ],
          "name": "stdout"
        }
      ]
    },
    {
      "cell_type": "code",
      "metadata": {
        "id": "XixwHiliNnNR"
      },
      "source": [
        "#optimize + loss\n",
        "model.compile(optimizer=keras.optimizers.RMSprop(learning_rate=1e-3),\n",
        "              loss=keras.losses.CategoricalCrossentropy(),\n",
        "              metrics=['accuracy'])"
      ],
      "execution_count": 26,
      "outputs": []
    },
    {
      "cell_type": "code",
      "metadata": {
        "colab": {
          "base_uri": "https://localhost:8080/"
        },
        "id": "mSOQ57PCNvAN",
        "outputId": "2a57eac8-5107-4429-dda2-1bd5faaf0997"
      },
      "source": [
        "#batch size und epochs von oben\n",
        "\n",
        "history = model.fit(x_train, y_train, batch_size=batch_size, epochs=epochs, shuffle=True)"
      ],
      "execution_count": 27,
      "outputs": [
        {
          "output_type": "stream",
          "text": [
            "Epoch 1/10\n",
            "1563/1563 [==============================] - 36s 22ms/step - loss: nan - accuracy: 0.1001\n",
            "Epoch 2/10\n",
            "1563/1563 [==============================] - 35s 22ms/step - loss: nan - accuracy: 0.0991\n",
            "Epoch 3/10\n",
            "1563/1563 [==============================] - 35s 22ms/step - loss: nan - accuracy: 0.1000\n",
            "Epoch 4/10\n",
            "1563/1563 [==============================] - 34s 22ms/step - loss: nan - accuracy: 0.0975\n",
            "Epoch 5/10\n",
            "1563/1563 [==============================] - 34s 22ms/step - loss: nan - accuracy: 0.0976\n",
            "Epoch 6/10\n",
            "1563/1563 [==============================] - 34s 22ms/step - loss: nan - accuracy: 0.1015\n",
            "Epoch 7/10\n",
            "1563/1563 [==============================] - 34s 22ms/step - loss: nan - accuracy: 0.0975\n",
            "Epoch 8/10\n",
            "1563/1563 [==============================] - 34s 22ms/step - loss: nan - accuracy: 0.1011\n",
            "Epoch 9/10\n",
            "1563/1563 [==============================] - 34s 22ms/step - loss: nan - accuracy: 0.1020\n",
            "Epoch 10/10\n",
            "1563/1563 [==============================] - 34s 22ms/step - loss: nan - accuracy: 0.0997\n"
          ],
          "name": "stdout"
        }
      ]
    },
    {
      "cell_type": "code",
      "metadata": {
        "colab": {
          "base_uri": "https://localhost:8080/"
        },
        "id": "fpocpbU9T-WK",
        "outputId": "c8fb1175-0d17-4cdf-8995-79b6b5c5fbfe"
      },
      "source": [
        "print(history.history)"
      ],
      "execution_count": 28,
      "outputs": [
        {
          "output_type": "stream",
          "text": [
            "{'loss': [nan, nan, nan, nan, nan, nan, nan, nan, nan, nan], 'accuracy': [0.10000000149011612, 0.10000000149011612, 0.10000000149011612, 0.10000000149011612, 0.10000000149011612, 0.10000000149011612, 0.10000000149011612, 0.10000000149011612, 0.10000000149011612, 0.10000000149011612]}\n"
          ],
          "name": "stdout"
        }
      ]
    },
    {
      "cell_type": "code",
      "metadata": {
        "colab": {
          "base_uri": "https://localhost:8080/"
        },
        "id": "4OwZYOHJNRyx",
        "outputId": "8624170f-ec69-43da-ce0f-424ccf070dd4"
      },
      "source": [
        "loss, acc = model.evaluate(dataset)\n",
        "print(\"loss: %.2f\" % loss)\n",
        "print(\"acc: %.2f\" % acc)"
      ],
      "execution_count": 29,
      "outputs": [
        {
          "output_type": "stream",
          "text": [
            "1563/1563 [==============================] - 14s 9ms/step - loss: nan - accuracy: 0.1000\n",
            "loss: nan\n",
            "acc: 0.10\n"
          ],
          "name": "stdout"
        }
      ]
    },
    {
      "cell_type": "code",
      "metadata": {
        "id": "INbI76fFSn33"
      },
      "source": [
        "import tensorflow as tf\n",
        "\n",
        "val_dataset = tf.data.Dataset.from_tensor_slices((x_test, y_test)).batch(batch_size)"
      ],
      "execution_count": 31,
      "outputs": []
    },
    {
      "cell_type": "code",
      "metadata": {
        "id": "Vpys4AhHPrwa"
      },
      "source": [
        "dataset = tf.data.Dataset.from_tensor_slices((x_train, y_train)).batch(batch_size)"
      ],
      "execution_count": 32,
      "outputs": []
    },
    {
      "cell_type": "code",
      "metadata": {
        "colab": {
          "base_uri": "https://localhost:8080/"
        },
        "id": "SVmq-aN-h6oi",
        "outputId": "7335af36-d0fc-44eb-8649-fbcc7ca5d26f"
      },
      "source": [
        "history = model.fit(dataset, epochs=epochs, batch_size=batch_size, validation_data=val_dataset)"
      ],
      "execution_count": 33,
      "outputs": [
        {
          "output_type": "stream",
          "text": [
            "Epoch 1/10\n",
            "1563/1563 [==============================] - 43s 28ms/step - loss: nan - accuracy: 0.1000 - val_loss: nan - val_accuracy: 0.1000\n",
            "Epoch 2/10\n",
            "1563/1563 [==============================] - 40s 26ms/step - loss: nan - accuracy: 0.1000 - val_loss: nan - val_accuracy: 0.1000\n",
            "Epoch 3/10\n",
            "1563/1563 [==============================] - 39s 25ms/step - loss: nan - accuracy: 0.1000 - val_loss: nan - val_accuracy: 0.1000\n",
            "Epoch 4/10\n",
            "1563/1563 [==============================] - 39s 25ms/step - loss: nan - accuracy: 0.1000 - val_loss: nan - val_accuracy: 0.1000\n",
            "Epoch 5/10\n",
            "1563/1563 [==============================] - 39s 25ms/step - loss: nan - accuracy: 0.1000 - val_loss: nan - val_accuracy: 0.1000\n",
            "Epoch 6/10\n",
            "1563/1563 [==============================] - 38s 25ms/step - loss: nan - accuracy: 0.1000 - val_loss: nan - val_accuracy: 0.1000\n",
            "Epoch 7/10\n",
            "1563/1563 [==============================] - 39s 25ms/step - loss: nan - accuracy: 0.1000 - val_loss: nan - val_accuracy: 0.1000\n",
            "Epoch 8/10\n",
            "1563/1563 [==============================] - 39s 25ms/step - loss: nan - accuracy: 0.1000 - val_loss: nan - val_accuracy: 0.1000\n",
            "Epoch 9/10\n",
            "1563/1563 [==============================] - 39s 25ms/step - loss: nan - accuracy: 0.1000 - val_loss: nan - val_accuracy: 0.1000\n",
            "Epoch 10/10\n",
            "1563/1563 [==============================] - 40s 25ms/step - loss: nan - accuracy: 0.1000 - val_loss: nan - val_accuracy: 0.1000\n"
          ],
          "name": "stdout"
        }
      ]
    },
    {
      "cell_type": "code",
      "metadata": {
        "colab": {
          "base_uri": "https://localhost:8080/"
        },
        "id": "ruwHEHkMqKGM",
        "outputId": "f6ba1107-84e7-40c2-b127-f9b113c48ee0"
      },
      "source": [
        "loss, acc = model.evaluate(val_dataset)\n",
        "print(\"loss: %.2f\" % loss)\n",
        "print(\"acc: %.2f\" % acc)"
      ],
      "execution_count": 34,
      "outputs": [
        {
          "output_type": "stream",
          "text": [
            "313/313 [==============================] - 3s 9ms/step - loss: nan - accuracy: 0.1000\n",
            "loss: nan\n",
            "acc: 0.10\n"
          ],
          "name": "stdout"
        }
      ]
    },
    {
      "cell_type": "code",
      "metadata": {
        "colab": {
          "base_uri": "https://localhost:8080/"
        },
        "id": "C96_8hbgkSYN",
        "outputId": "20f1827b-54c3-49ca-cbcc-973d1dd975c0"
      },
      "source": [
        "predictions = model.predict(val_dataset)\n",
        "print(predictions)"
      ],
      "execution_count": 35,
      "outputs": [
        {
          "output_type": "stream",
          "text": [
            "[[nan nan nan ... nan nan nan]\n",
            " [nan nan nan ... nan nan nan]\n",
            " [nan nan nan ... nan nan nan]\n",
            " ...\n",
            " [nan nan nan ... nan nan nan]\n",
            " [nan nan nan ... nan nan nan]\n",
            " [nan nan nan ... nan nan nan]]\n"
          ],
          "name": "stdout"
        }
      ]
    },
    {
      "cell_type": "markdown",
      "metadata": {
        "id": "pzC3_fhZkrxA"
      },
      "source": [
        "Hyperparameter Tuning"
      ]
    },
    {
      "cell_type": "code",
      "metadata": {
        "id": "xSLJDSVhkqh8"
      },
      "source": [
        "def build_model(hp):\n",
        "  inputs = tf.keras.Input(shape=(32, 32, 3))\n",
        "  x = inputs\n",
        "  for i in range(hp.Int('conv_blocks', 3, 5, default=3)):\n",
        "    filters = hp.Int('filters_' + str(i), 32, 256, step=32)\n",
        "    for _ in range(2):\n",
        "      x = tf.keras.layers.Convolution2D(\n",
        "        filters, kernel_size=(3, 3), padding='same')(x)\n",
        "      x = tf.keras.layers.BatchNormalization()(x)\n",
        "      x = tf.keras.layers.ReLU()(x)\n",
        "    if hp.Choice('pooling_' + str(i), ['avg', 'max']) == 'max':\n",
        "      x = tf.keras.layers.MaxPool2D()(x)\n",
        "    else:\n",
        "      x = tf.keras.layers.AvgPool2D()(x)\n",
        "  x = tf.keras.layers.GlobalAvgPool2D()(x)\n",
        "  x = tf.keras.layers.Dense(\n",
        "      hp.Int('hidden_size', 30, 100, step=10, default=50),\n",
        "      activation='relu')(x)\n",
        "  x = tf.keras.layers.Dropout(\n",
        "      hp.Float('dropout', 0, 0.5, step=0.1, default=0.5))(x)\n",
        "  outputs = tf.keras.layers.Dense(10, activation='softmax')(x)\n",
        "\n",
        "  model = tf.keras.Model(inputs, outputs)\n",
        "  model.compile(\n",
        "    optimizer=tf.keras.optimizers.Adam(\n",
        "      hp.Float('learning_rate', 1e-4, 1e-2, sampling='log')),\n",
        "    loss='sparse_categorical_crossentropy', \n",
        "    metrics=['accuracy'])\n",
        "  return model\n",
        "\n",
        "   \n"
      ],
      "execution_count": 50,
      "outputs": []
    },
    {
      "cell_type": "code",
      "metadata": {
        "id": "PQ9V5Ic1vW18"
      },
      "source": [
        "!pip install -q -U keras-tuner\n",
        "from kerastuner.tuners import Hyperband\n"
      ],
      "execution_count": 37,
      "outputs": []
    },
    {
      "cell_type": "code",
      "metadata": {
        "id": "wAaDs06vW2S5"
      },
      "source": [
        "import kerastuner as kt\n",
        "\n",
        "tuner = kt.Hyperband(\n",
        "    build_model,\n",
        "    objective='val_accuracy',\n",
        "    max_epochs=30,\n",
        "    hyperband_iterations=2)"
      ],
      "execution_count": 51,
      "outputs": []
    },
    {
      "cell_type": "code",
      "metadata": {
        "colab": {
          "base_uri": "https://localhost:8080/"
        },
        "id": "E-4ORTmKk0D2",
        "outputId": "540d1bb9-b68e-41d1-ee7d-37973d09b3a2"
      },
      "source": [
        "tuner.search_space_summary()"
      ],
      "execution_count": 52,
      "outputs": [
        {
          "output_type": "stream",
          "text": [
            "Search space summary\n",
            "Default search space size: 10\n",
            "conv_blocks (Int)\n",
            "{'default': 3, 'conditions': [], 'min_value': 3, 'max_value': 5, 'step': 1, 'sampling': None}\n",
            "filters_0 (Int)\n",
            "{'default': None, 'conditions': [], 'min_value': 32, 'max_value': 256, 'step': 32, 'sampling': None}\n",
            "pooling_0 (Choice)\n",
            "{'default': 'avg', 'conditions': [], 'values': ['avg', 'max'], 'ordered': False}\n",
            "filters_1 (Int)\n",
            "{'default': None, 'conditions': [], 'min_value': 32, 'max_value': 256, 'step': 32, 'sampling': None}\n",
            "pooling_1 (Choice)\n",
            "{'default': 'avg', 'conditions': [], 'values': ['avg', 'max'], 'ordered': False}\n",
            "filters_2 (Int)\n",
            "{'default': None, 'conditions': [], 'min_value': 32, 'max_value': 256, 'step': 32, 'sampling': None}\n",
            "pooling_2 (Choice)\n",
            "{'default': 'avg', 'conditions': [], 'values': ['avg', 'max'], 'ordered': False}\n",
            "hidden_size (Int)\n",
            "{'default': 50, 'conditions': [], 'min_value': 30, 'max_value': 100, 'step': 10, 'sampling': None}\n",
            "dropout (Float)\n",
            "{'default': 0.5, 'conditions': [], 'min_value': 0.0, 'max_value': 0.5, 'step': 0.1, 'sampling': None}\n",
            "learning_rate (Float)\n",
            "{'default': 0.0001, 'conditions': [], 'min_value': 0.0001, 'max_value': 0.01, 'step': None, 'sampling': 'log'}\n"
          ],
          "name": "stdout"
        }
      ]
    },
    {
      "cell_type": "code",
      "metadata": {
        "id": "_HX7BAR10I3w"
      },
      "source": [
        "best_model = tuner.get_best_models(num_models=4)\n"
      ],
      "execution_count": 55,
      "outputs": []
    },
    {
      "cell_type": "code",
      "metadata": {
        "id": "uqOTHsaOk2S3"
      },
      "source": [
        "best_hyperparameters = tuner.get_best_hyperparameters\n"
      ],
      "execution_count": 56,
      "outputs": []
    },
    {
      "cell_type": "code",
      "metadata": {
        "colab": {
          "base_uri": "https://localhost:8080/"
        },
        "id": "quXzT4snk4KC",
        "outputId": "39624ad5-8760-4303-c7a1-068262f3efef"
      },
      "source": [
        "tuner.results_summary()"
      ],
      "execution_count": 57,
      "outputs": [
        {
          "output_type": "stream",
          "text": [
            "Results summary\n",
            "Results in ./untitled_project\n",
            "Showing 10 best trials\n",
            "Objective(name='val_accuracy', direction='max')\n"
          ],
          "name": "stdout"
        }
      ]
    }
  ]
}