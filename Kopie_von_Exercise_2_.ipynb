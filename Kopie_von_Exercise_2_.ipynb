{
  "nbformat": 4,
  "nbformat_minor": 0,
  "metadata": {
    "colab": {
      "name": "Kopie von Exercise_2 .ipynb",
      "provenance": [],
      "collapsed_sections": [],
      "include_colab_link": true
    },
    "kernelspec": {
      "display_name": "Python 3",
      "language": "python",
      "name": "python3"
    },
    "language_info": {
      "codemirror_mode": {
        "name": "ipython",
        "version": 3
      },
      "file_extension": ".py",
      "mimetype": "text/x-python",
      "name": "python",
      "nbconvert_exporter": "python",
      "pygments_lexer": "ipython3",
      "version": "3.7.6"
    }
  },
  "cells": [
    {
      "cell_type": "markdown",
      "metadata": {
        "id": "view-in-github",
        "colab_type": "text"
      },
      "source": [
        "<a href=\"https://colab.research.google.com/github/AlineSchaub/DataScience21/blob/7_Block/Kopie_von_Exercise_2_.ipynb\" target=\"_parent\"><img src=\"https://colab.research.google.com/assets/colab-badge.svg\" alt=\"Open In Colab\"/></a>"
      ]
    },
    {
      "cell_type": "markdown",
      "metadata": {
        "id": "NgYV9F8IE2L_"
      },
      "source": [
        "# Assignment - Image Classification with CNNs\n",
        "![CIFAR10](https://miro.medium.com/max/964/1*syyml8q8s1Yt-iEea5m1Ag.png)\n",
        "\n",
        "[CIFAR 10](https://www.cs.toronto.edu/~kriz/cifar.html) is a small toy data set for image classifaction. \n",
        "\n",
        "* It has 60k images from ten diffenrent classes (like car, airplane, horse,..)\n",
        "* The RGB images are of size 32x32 pixels  "
      ]
    },
    {
      "cell_type": "code",
      "metadata": {
        "id": "GiDFXXcUEy-G",
        "colab": {
          "base_uri": "https://localhost:8080/"
        },
        "outputId": "69e88f19-5874-4862-be23-692106ca78b9"
      },
      "source": [
        "#import needed libs\n",
        "from __future__ import print_function\n",
        "import keras\n",
        "from keras.datasets import cifar10\n",
        "from keras.preprocessing.image import ImageDataGenerator\n",
        "from keras.models import Sequential\n",
        "from keras.layers import Dense, Dropout, Activation, Flatten\n",
        "from keras.layers import Conv2D, MaxPooling2D\n",
        "import os\n",
        "\n",
        "#some vars to controll the training -> use them in your code\n",
        "batch_size = 32\n",
        "num_classes = 10 #fixed!\n",
        "epochs = 10\n",
        "\n",
        "# Get the data, split between train and test sets:\n",
        "(x_train, y_train), (x_test, y_test) = cifar10.load_data()\n",
        "print('x_train shape:', x_train.shape)\n",
        "print(x_train.shape[0], 'train samples')\n",
        "print(x_test.shape[0], 'test samples')\n",
        "\n",
        "# Convert class vectors to binary class matrices.\n",
        "y_train = keras.utils.to_categorical(y_train, num_classes)\n",
        "y_test = keras.utils.to_categorical(y_test, num_classes)"
      ],
      "execution_count": 1,
      "outputs": [
        {
          "output_type": "stream",
          "text": [
            "Downloading data from https://www.cs.toronto.edu/~kriz/cifar-10-python.tar.gz\n",
            "170500096/170498071 [==============================] - 2s 0us/step\n",
            "x_train shape: (50000, 32, 32, 3)\n",
            "50000 train samples\n",
            "10000 test samples\n"
          ],
          "name": "stdout"
        }
      ]
    },
    {
      "cell_type": "markdown",
      "metadata": {
        "id": "vmocaCkIGOIR"
      },
      "source": [
        "## Task:\n",
        "* visualize some sample images from different classes\n",
        "* build and train the ***AlexNet*** CNN architecture from the lecture, use the following Keras layers:\n",
        "    * overview: https://keras.io/api/layers/\n",
        "    * 2d convolution: https://keras.io/api/layers/convolution_layers/convolution2d/\n",
        "    * Fully Connected (=Matrix Multiplication MLP): https://keras.io/api/layers/core_layers/dense/\n",
        "    * Pooling: https://keras.io/api/layers/pooling_layers/max_pooling2d/   \n",
        "* use 'relu' functions for the non-linear activation -> https://keras.io/api/layers/activation_layers/relu/\n",
        "* optimize the learning hyper-paramters to get the best  test accuracy"
      ]
    },
    {
      "cell_type": "code",
      "metadata": {
        "id": "9p5AD8mJEzmL"
      },
      "source": [
        "from tensorflow.keras import layers\n",
        "from tensorflow.keras.layers.experimental.preprocessing import CenterCrop\n",
        "from tensorflow.keras.layers.experimental.preprocessing import Rescaling\n",
        "from tensorflow.keras import activations\n",
        "\n",
        "#RGB (3) und Bildgröße 32 auf 32\n",
        "inputs = keras.Input(shape=(32, 32, 3))\n",
        "\n",
        "\n",
        "#Bilder zuschneiden\n",
        "x_1 = CenterCrop(height=30, width=30)(inputs)\n",
        "\n",
        "\n",
        "# Rescale images to [0, 1]\n",
        "x_2 = Rescaling(scale=1.0 / 255)(x_1)\n",
        "\n",
        "# 2d Convolution layer\n",
        "x_3 = layers.Conv2D(filters=32, kernel_size=(3, 3), activation=\"relu\")(x_2)\n",
        "\n",
        "#fully connected layer\n",
        "x_4 = layers.Dense(32, activation='relu')(x_3)\n",
        "\n",
        "#Pooling layer\n",
        "x_5 = layers.MaxPooling2D(pool_size=(3, 3))(x_4)\n",
        "\n",
        "\n",
        "x_6 = layers.GlobalAveragePooling2D()(x_5)\n",
        "\n"
      ],
      "execution_count": 2,
      "outputs": []
    },
    {
      "cell_type": "code",
      "metadata": {
        "id": "5I7SEd2VE7uz"
      },
      "source": [
        "\n",
        "outputs = layers.Dense(num_classes, activation=activations.relu)(x_6)"
      ],
      "execution_count": 3,
      "outputs": []
    },
    {
      "cell_type": "code",
      "metadata": {
        "id": "z8EmS2BcMe5T"
      },
      "source": [
        "model = keras.Model(inputs=inputs, outputs=outputs)"
      ],
      "execution_count": 4,
      "outputs": []
    },
    {
      "cell_type": "code",
      "metadata": {
        "colab": {
          "base_uri": "https://localhost:8080/"
        },
        "id": "pfmAyFWzNElh",
        "outputId": "ad7d7ee9-95e1-40cb-f7af-c16fdf10f33e"
      },
      "source": [
        "model.summary()"
      ],
      "execution_count": 5,
      "outputs": [
        {
          "output_type": "stream",
          "text": [
            "Model: \"model\"\n",
            "_________________________________________________________________\n",
            "Layer (type)                 Output Shape              Param #   \n",
            "=================================================================\n",
            "input_1 (InputLayer)         [(None, 32, 32, 3)]       0         \n",
            "_________________________________________________________________\n",
            "center_crop (CenterCrop)     (None, 30, 30, 3)         0         \n",
            "_________________________________________________________________\n",
            "rescaling (Rescaling)        (None, 30, 30, 3)         0         \n",
            "_________________________________________________________________\n",
            "conv2d (Conv2D)              (None, 28, 28, 32)        896       \n",
            "_________________________________________________________________\n",
            "dense (Dense)                (None, 28, 28, 32)        1056      \n",
            "_________________________________________________________________\n",
            "max_pooling2d (MaxPooling2D) (None, 9, 9, 32)          0         \n",
            "_________________________________________________________________\n",
            "global_average_pooling2d (Gl (None, 32)                0         \n",
            "_________________________________________________________________\n",
            "dense_1 (Dense)              (None, 10)                330       \n",
            "=================================================================\n",
            "Total params: 2,282\n",
            "Trainable params: 2,282\n",
            "Non-trainable params: 0\n",
            "_________________________________________________________________\n"
          ],
          "name": "stdout"
        }
      ]
    },
    {
      "cell_type": "code",
      "metadata": {
        "id": "XixwHiliNnNR"
      },
      "source": [
        "#optimize + loss\n",
        "model.compile(optimizer=keras.optimizers.RMSprop(learning_rate=1e-3),\n",
        "              loss=keras.losses.CategoricalCrossentropy())"
      ],
      "execution_count": 6,
      "outputs": []
    },
    {
      "cell_type": "code",
      "metadata": {
        "colab": {
          "base_uri": "https://localhost:8080/"
        },
        "id": "mSOQ57PCNvAN",
        "outputId": "932be433-f171-41c1-e6e4-75d100520107"
      },
      "source": [
        "#batch size und epochs von oben\n",
        "\n",
        "history = model.fit(x_train, y_train, batch_size=batch_size, epochs=epochs)"
      ],
      "execution_count": 7,
      "outputs": [
        {
          "output_type": "stream",
          "text": [
            "Epoch 1/10\n",
            "1563/1563 [==============================] - 39s 24ms/step - loss: 7.6660\n",
            "Epoch 2/10\n",
            "1563/1563 [==============================] - 37s 24ms/step - loss: 7.3471\n",
            "Epoch 3/10\n",
            "1563/1563 [==============================] - 37s 24ms/step - loss: 7.4018\n",
            "Epoch 4/10\n",
            "1563/1563 [==============================] - 37s 24ms/step - loss: 7.2778\n",
            "Epoch 5/10\n",
            "1563/1563 [==============================] - 37s 24ms/step - loss: 6.0337\n",
            "Epoch 6/10\n",
            "1563/1563 [==============================] - 36s 23ms/step - loss: nan\n",
            "Epoch 7/10\n",
            "1563/1563 [==============================] - 36s 23ms/step - loss: nan\n",
            "Epoch 8/10\n",
            "1563/1563 [==============================] - 36s 23ms/step - loss: nan\n",
            "Epoch 9/10\n",
            "1563/1563 [==============================] - 36s 23ms/step - loss: nan\n",
            "Epoch 10/10\n",
            "1563/1563 [==============================] - 36s 23ms/step - loss: nan\n"
          ],
          "name": "stdout"
        }
      ]
    },
    {
      "cell_type": "code",
      "metadata": {
        "colab": {
          "base_uri": "https://localhost:8080/"
        },
        "id": "fpocpbU9T-WK",
        "outputId": "49edfb6c-c19c-46ff-c3b3-812d8d3adb7a"
      },
      "source": [
        "print(history.history)"
      ],
      "execution_count": 8,
      "outputs": [
        {
          "output_type": "stream",
          "text": [
            "{'loss': [7.478695392608643, 7.399676322937012, 7.401665687561035, 6.983435153961182, 6.063174247741699, nan, nan, nan, nan, nan]}\n"
          ],
          "name": "stdout"
        }
      ]
    },
    {
      "cell_type": "code",
      "metadata": {
        "id": "WM42ABrgVl_M"
      },
      "source": [
        "#Metrics\n",
        "model.compile('adam', 'binary_crossentropy', metrics='accuracy')\n",
        "\n",
        "\n"
      ],
      "execution_count": 36,
      "outputs": []
    },
    {
      "cell_type": "code",
      "metadata": {
        "id": "INbI76fFSn33"
      },
      "source": [
        "import tensorflow as tf\n",
        "\n",
        "val_dataset = tf.data.Dataset.from_tensor_slices((x_test, y_test)).batch(batch_size)\n",
        "train_ds = tf.data.Dataset.from_tensor_slices((x_train, y_train)).batch(batch_size)\n",
        "test_ds = tf.data.Dataset.from_tensor_slices((x_test, y_test)).batch(batch_size)"
      ],
      "execution_count": 37,
      "outputs": []
    },
    {
      "cell_type": "code",
      "metadata": {
        "id": "Vpys4AhHPrwa"
      },
      "source": [
        "dataset = tf.data.Dataset.from_tensor_slices((x_train, y_train)).batch(batch_size)\n"
      ],
      "execution_count": 38,
      "outputs": []
    },
    {
      "cell_type": "code",
      "metadata": {
        "colab": {
          "base_uri": "https://localhost:8080/"
        },
        "id": "SVmq-aN-h6oi",
        "outputId": "62b0c7fe-e659-4f62-e3a3-def5af0e194f"
      },
      "source": [
        "val_dataset = tf.data.Dataset.from_tensor_slices((x_test, y_test)).batch(batch_size)\n",
        "history = model.fit(dataset, epochs=epochs, batch_size=batch_size, validation_data=val_dataset)"
      ],
      "execution_count": 39,
      "outputs": [
        {
          "output_type": "stream",
          "text": [
            "1563/1563 [==============================] - 41s 26ms/step - loss: nan - accuracy: 0.0996 - val_loss: nan - val_accuracy: 0.1000\n"
          ],
          "name": "stdout"
        }
      ]
    },
    {
      "cell_type": "code",
      "metadata": {
        "colab": {
          "base_uri": "https://localhost:8080/"
        },
        "id": "ruwHEHkMqKGM",
        "outputId": "dd0bc6be-f8d4-4f5c-9a8c-25a4fd98f2b4"
      },
      "source": [
        "loss, acc = model.evaluate(val_dataset)  # returns loss and metrics\n",
        "print(\"loss: %.2f\" % loss)\n",
        "print(\"acc: %.2f\" % acc)"
      ],
      "execution_count": 40,
      "outputs": [
        {
          "output_type": "stream",
          "text": [
            "313/313 [==============================] - 3s 10ms/step - loss: nan - accuracy: 0.1000\n",
            "loss: nan\n",
            "acc: 0.10\n"
          ],
          "name": "stdout"
        }
      ]
    }
  ]
}