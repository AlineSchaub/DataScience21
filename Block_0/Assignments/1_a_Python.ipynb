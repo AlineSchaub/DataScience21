{
 "cells": [
  {
   "cell_type": "markdown",
   "metadata": {},
   "source": [
    "# Exercise I: Your own Python module "
   ]
  },
  {
   "cell_type": "code",
   "execution_count": null,
   "metadata": {},
   "outputs": [],
   "source": [
    "#check if notebook runs in colab\n",
    "import sys\n",
    "IN_COLAB = 'google.colab' in sys.modules\n",
    "print('running in Colab:',IN_COLAB)\n",
    "path='..'\n",
    "if IN_COLAB:\n",
    "  #in colab, we need to clone the data from the repo\n",
    "  !git clone https://github.com/keuperj/DataScienceSS20.git\n",
    "  path='DataScienceSS20'\n",
    "  import sys\n",
    "  sys.path.append(path+'/Exercises/')"
   ]
  },
  {
   "cell_type": "markdown",
   "metadata": {},
   "source": [
    "Write your own python module (choose a name) with the following properties:\n",
    "\n",
    "1. start new python file for the module\n",
    "2. define a class ***ListKeeper*** with the following properties and API:\n",
    "   1. ***Listkeeper*** strores named lists (hint: use dictionaries) \n",
    "   2. it initializes with a list named *example*: [1,2,3,4,5]\n",
    "   3. ``show()`` returns all list names\n",
    "   4. ``add(name, list)`` adds a new list\n",
    "   5. ``delete(name)`` deletes list\n",
    "   6. ``sort(name)`` returns the sorted list *name*\n",
    "   7. ``append(name, list)`` appends *list* to *name* \n",
    "3. add comments and documentation to your class\n",
    "4. Import your module in this notebook\n",
    "5. write tests to check the functionality of your class "
   ]
  },
  {
   "cell_type": "code",
<<<<<<< HEAD
   "execution_count": 1,
=======
   "execution_count": 9,
>>>>>>> fff4ce7a466ff96ce442a9c3a0a3a5281ec16268
   "metadata": {},
   "outputs": [],
   "source": [
    "#eigenes Modul importieren\n",
    "import Assignment1_OwnModule as ownMod"
   ]
  },
  {
   "cell_type": "code",
<<<<<<< HEAD
   "execution_count": 2,
=======
   "execution_count": 10,
>>>>>>> fff4ce7a466ff96ce442a9c3a0a3a5281ec16268
   "metadata": {},
   "outputs": [
    {
     "name": "stdout",
     "output_type": "stream",
     "text": [
<<<<<<< HEAD
      "{'example': [1, 2, 3, 4, 5], 'hallo': [7, 7, 7]}\n",
      "{'example': [1, 2, 3, 4, 5], 'hallo': [7, 7, 7], 'tschüss': [9, 3, 1]}\n",
      "{'example': [1, 2, 3, 4, 5], 'hallo': [7, 7, 7], 'tschüss': [9, 3, 1], 'ciao': [9, 8, 7]}\n",
      "{'example': [1, 2, 3, 4, 5], 'hallo': [7, 7, 7], 'tschüss': [9, 3, 1], 'ciao': [9, 8, 7], 'tüdelü': [9, 9, 9]}\n",
      "Alle Namen der Listen:  dict_keys(['example', 'hallo', 'tschüss', 'ciao', 'tüdelü'])\n",
=======
      "Alle Namen der Listen:  dict_keys(['hallo', 'tschüss', 'ciao', 'tüdelü', 'example'])\n",
>>>>>>> fff4ce7a466ff96ce442a9c3a0a3a5281ec16268
      "Listen mit gelöschtem Element:  {'hallo': [7, 7, 7], 'tschüss': [9, 3, 1], 'ciao': [9, 8, 7], 'tüdelü': [9, 9, 9]}\n",
      "Sortierte Listen:  {'hallo': [7, 7, 7], 'tschüss': [9, 3, 1], 'ciao': [9, 8, 7], 'tüdelü': [9, 9, 9]}\n",
      "Liste mit dem Namen  hallo erweitert:  {'hallo': [7, 7, 7, [6, 6, 6]], 'tschüss': [9, 3, 1], 'ciao': [9, 8, 7], 'tüdelü': [9, 9, 9]}\n"
     ]
    }
   ],
   "source": [
    "#Liste zum Initialisieren\n",
    "liste1 = [1,2,3,4,5]\n",
    "name = 'example'\n",
    "\n",
    "#Liste initialisieren\n",
    "lK = ownMod.ListKeeper(name, liste1)\n",
    "\n",
    "#Listen hinzufügen\n",
    "lK.add('hallo', [7, 7, 7])\n",
    "lK.add('tschüss', [9, 3, 1])\n",
    "lK.add('ciao', [9, 8, 7])\n",
    "lK.add('tüdelü', [9, 9, 9])\n",
    "\n",
    "#Alle Elemente der Liste\n",
    "lK.show()\n",
    "\n",
    "#Liste mit dem Namen 'example' entfernen\n",
    "lK.delete(name)\n",
    "\n",
    "#Liste nach Namen sortiert\n",
    "lK.sort()\n",
    "\n",
    "#Der Liste mit dem Namen 'hallo' eine weitere Liste hinzugefügt\n",
    "lK.append('hallo', [6, 6, 6])"
   ]
  },
  {
   "cell_type": "code",
   "execution_count": null,
   "metadata": {},
   "outputs": [],
   "source": []
  }
 ],
 "metadata": {
  "kernelspec": {
   "display_name": "Python 3",
   "language": "python",
   "name": "python3"
  },
  "language_info": {
   "codemirror_mode": {
    "name": "ipython",
    "version": 3
   },
   "file_extension": ".py",
   "mimetype": "text/x-python",
   "name": "python",
   "nbconvert_exporter": "python",
   "pygments_lexer": "ipython3",
   "version": "3.7.6"
  }
 },
 "nbformat": 4,
 "nbformat_minor": 4
}
